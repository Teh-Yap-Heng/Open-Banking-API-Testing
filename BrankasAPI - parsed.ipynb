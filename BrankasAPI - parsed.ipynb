{
 "cells": [
  {
   "cell_type": "code",
   "execution_count": 2,
   "id": "335e20ca",
   "metadata": {},
   "outputs": [],
   "source": [
    "import requests\n",
    "import json\n",
    "#from collections.abc import Mapping\n",
    "import itertools"
   ]
  },
  {
   "cell_type": "code",
   "execution_count": 3,
   "id": "d337f52d",
   "metadata": {},
   "outputs": [
    {
     "name": "stdout",
     "output_type": "stream",
     "text": [
      "{\"statement_id\":\"69058eee-cbba-4ae2-b838-70a2d1a2c15e\", \"redirect_uri\":\"https://tap.sandbox.brank.as?app=statement&statement_id=69058eee-cbba-4ae2-b838-70a2d1a2c15e&country=ID&organization_display_name=TONGDUN&bank_codes=MjYx\"}\n"
     ]
    }
   ],
   "source": [
    "API = '4wJ8FlXRXOYo0Fn1JbsOO9zz4PHUvKU1aKCvVsZMpWkw1tkD0dq12U2uYGXbZZEg'\n",
    "url = \"https://statement.sandbox.bnk.to/v1/statement-init\"\n",
    "\n",
    "payload = json.dumps({\n",
    "  \"external_id\": \"Test-01010103\",\n",
    "  \"country\": \"ID\",\n",
    "  \"bank_codes\": [\n",
    "    \"DUMMY_BANK_PERSONAL\"\n",
    "  ],\n",
    "  \"organization_display_name\": \"TONGDUN\"\n",
    "})\n",
    "\n",
    "headers = {\n",
    "  'Content-Type': 'application/json',\n",
    "  'x-api-key': API\n",
    "}\n",
    "\n",
    "response = requests.request(\"POST\", url, headers=headers, data=payload)\n",
    "\n",
    "print(response.text)"
   ]
  },
  {
   "cell_type": "code",
   "execution_count": 4,
   "id": "7383511c",
   "metadata": {},
   "outputs": [
    {
     "name": "stdout",
     "output_type": "stream",
     "text": [
      "https://tap.sandbox.brank.as?app=statement&statement_id=69058eee-cbba-4ae2-b838-70a2d1a2c15e&country=ID&organization_display_name=TONGDUN&bank_codes=MjYx\n"
     ]
    }
   ],
   "source": [
    "data = json.loads(response.text)\n",
    "data_id = data['statement_id']\n",
    "data_uri = data['redirect_uri']\n",
    "print(data_uri)"
   ]
  },
  {
   "cell_type": "code",
   "execution_count": 5,
   "id": "829e7b16",
   "metadata": {
    "scrolled": false
   },
   "outputs": [
    {
     "name": "stdout",
     "output_type": "stream",
     "text": [
      "{\"statements\":[{\"status\":\"COMPLETED\", \"statement_id\":\"69058eee-cbba-4ae2-b838-70a2d1a2c15e\", \"bank_code\":\"DUMMY_BANK_PERSONAL\", \"start_date\":\"2018-10-31T17:00:00Z\", \"end_date\":\"2021-10-15T06:21:14Z\", \"account_statements\":[{\"account\":{\"type\":\"SAVINGS\", \"account_number\":\"0007-123-007\", \"balance\":{\"cur\":\"IDR\", \"num\":\"50000000000\", \"decimal\":{\"places\":2, \"num\":\"500000000.00\"}}, \"holder_name\":\"TEST USER\", \"total_amount_credited\":{\"cur\":\"IDR\", \"num\":\"10500000\", \"decimal\":{\"places\":2, \"num\":\"105000.00\"}}, \"total_amount_debited\":{\"cur\":\"IDR\", \"num\":\"10500000\", \"decimal\":{\"places\":2, \"num\":\"105000.00\"}}, \"credit_transaction_count\":2, \"debit_transaction_count\":1}, \"transactions\":[{\"date\":\"2018-10-31T17:00:00Z\", \"type\":\"DEBIT\", \"status\":\"SUCCESS\", \"amount\":{\"cur\":\"IDR\", \"num\":\"10500000\", \"decimal\":{\"places\":2, \"num\":\"105000.00\"}}, \"descriptor\":\"Payment for merchant A\", \"balance\":{\"cur\":\"IDR\", \"num\":\"50000000000\", \"decimal\":{\"places\":2, \"num\":\"500000000.00\"}}}, {\"date\":\"2018-11-01T17:00:00Z\", \"type\":\"CREDIT\", \"status\":\"SUCCESS\", \"amount\":{\"cur\":\"IDR\", \"num\":\"10000000\", \"decimal\":{\"places\":2, \"num\":\"100000.00\"}}, \"descriptor\":\"Payment from merchant B\", \"balance\":{\"cur\":\"IDR\", \"num\":\"50010500000\", \"decimal\":{\"places\":2, \"num\":\"500105000.00\"}}}, {\"date\":\"2018-11-02T17:00:00Z\", \"type\":\"CREDIT\", \"status\":\"SUCCESS\", \"amount\":{\"cur\":\"IDR\", \"num\":\"500000\", \"decimal\":{\"places\":2, \"num\":\"5000.00\"}}, \"descriptor\":\"Payment from merchant C\", \"balance\":{\"cur\":\"IDR\", \"num\":\"50000500000\", \"decimal\":{\"places\":2, \"num\":\"500005000.00\"}}}]}, {\"account\":{\"type\":\"CHECKING\", \"account_number\":\"0007-321-456\", \"balance\":{\"cur\":\"IDR\", \"num\":\"23450000000\", \"decimal\":{\"places\":2, \"num\":\"234500000.00\"}}, \"holder_name\":\"TEST USER\", \"total_amount_credited\":{\"cur\":\"IDR\", \"num\":\"0\", \"decimal\":{\"places\":2, \"num\":\"0.00\"}}, \"total_amount_debited\":{\"cur\":\"IDR\", \"num\":\"0\", \"decimal\":{\"places\":2, \"num\":\"0.00\"}}}}, {\"account\":{\"type\":\"SAVINGS\", \"account_number\":\"0007-123-789\", \"balance\":{\"cur\":\"PHP\", \"num\":\"54310000\", \"decimal\":{\"places\":2, \"num\":\"543100.00\"}}, \"holder_name\":\"TEST USER\", \"total_amount_credited\":{\"cur\":\"PHP\", \"num\":\"0\", \"decimal\":{\"places\":2, \"num\":\"0.00\"}}, \"total_amount_debited\":{\"cur\":\"PHP\", \"num\":\"0\", \"decimal\":{\"places\":2, \"num\":\"0.00\"}}}}, {\"account\":{\"type\":\"CHECKING\", \"account_number\":\"0007-321-901\", \"balance\":{\"cur\":\"PHP\", \"num\":\"54310000\", \"decimal\":{\"places\":2, \"num\":\"543100.00\"}}, \"holder_name\":\"TEST USER\", \"total_amount_credited\":{\"cur\":\"PHP\", \"num\":\"0\", \"decimal\":{\"places\":2, \"num\":\"0.00\"}}, \"total_amount_debited\":{\"cur\":\"PHP\", \"num\":\"0\", \"decimal\":{\"places\":2, \"num\":\"0.00\"}}}}, {\"account\":{\"type\":\"SAVINGS\", \"account_number\":\"0007-456-007\", \"balance\":{\"cur\":\"USD\", \"num\":\"125000\", \"decimal\":{\"places\":2, \"num\":\"1250.00\"}}, \"holder_name\":\"TEST USER\", \"total_amount_credited\":{\"cur\":\"USD\", \"num\":\"2000\", \"decimal\":{\"places\":2, \"num\":\"20.00\"}}, \"total_amount_debited\":{\"cur\":\"USD\", \"num\":\"500\", \"decimal\":{\"places\":2, \"num\":\"5.00\"}}, \"credit_transaction_count\":2, \"debit_transaction_count\":1}, \"transactions\":[{\"date\":\"2018-10-31T17:00:00Z\", \"type\":\"DEBIT\", \"status\":\"SUCCESS\", \"amount\":{\"cur\":\"USD\", \"num\":\"500\", \"decimal\":{\"places\":2, \"num\":\"5.00\"}}, \"descriptor\":\"Payment for merchant A\", \"balance\":{\"cur\":\"USD\", \"num\":\"125000\", \"decimal\":{\"places\":2, \"num\":\"1250.00\"}}}, {\"date\":\"2018-11-01T17:00:00Z\", \"type\":\"CREDIT\", \"status\":\"SUCCESS\", \"amount\":{\"cur\":\"USD\", \"num\":\"1000\", \"decimal\":{\"places\":2, \"num\":\"10.00\"}}, \"descriptor\":\"Payment from merchant B\", \"balance\":{\"cur\":\"USD\", \"num\":\"125500\", \"decimal\":{\"places\":2, \"num\":\"1255.00\"}}}, {\"date\":\"2018-11-02T17:00:00Z\", \"type\":\"CREDIT\", \"status\":\"SUCCESS\", \"amount\":{\"cur\":\"USD\", \"num\":\"1000\", \"decimal\":{\"places\":2, \"num\":\"10.00\"}}, \"descriptor\":\"Payment from merchant C\", \"balance\":{\"cur\":\"USD\", \"num\":\"124500\", \"decimal\":{\"places\":2, \"num\":\"1245.00\"}}}]}], \"create\":\"2021-10-15T06:20:38Z\", \"external_id\":\"Test-01010103\", \"sub_status\":\"SubStatus_COMPLETED\", \"update\":\"2021-10-15T06:21:14Z\", \"org_id\":\"d8d51e2a-f9a9-11eb-b53d-df3fd6367221\", \"bank_type\":\"PERSONAL\"}], \"total_count\":24}\n"
     ]
    }
   ],
   "source": [
    "url2 = \"http://statement.sandbox.bnk.to/v1/statements?statement_ids=\" + data_id\n",
    "\n",
    "headers = {\n",
    "  'Content-Type': 'application/json',\n",
    "  'x-api-key': API\n",
    "}\n",
    "\n",
    "response2 = requests.request(\"GET\", url2, headers=headers)\n",
    "\n",
    "print(response2.text)"
   ]
  },
  {
   "cell_type": "code",
   "execution_count": 35,
   "id": "a08d2dc0",
   "metadata": {
    "scrolled": false
   },
   "outputs": [
    {
     "name": "stdout",
     "output_type": "stream",
     "text": [
      "status : COMPLETED \n",
      "\n",
      "statement_id : 69058eee-cbba-4ae2-b838-70a2d1a2c15e \n",
      "\n",
      "bank_code : DUMMY_BANK_PERSONAL \n",
      "\n",
      "start_date : 2018-10-31T17:00:00Z \n",
      "\n",
      "end_date : 2021-10-15T06:21:14Z \n",
      "\n",
      "######         ACCOUNT STATEMENT         ######\n",
      "######         ACCOUNT                   ######\n",
      "type : SAVINGS\n",
      "account_number : 0007-123-007\n",
      "balance : 500000000.00\n",
      "holder_name : TEST USER\n",
      "total_amount_credited : 105000.00\n",
      "total_amount_debited : 105000.00\n",
      "credit_transaction_count : 2\n",
      "debit_transaction_count : 1\n",
      "\n",
      "\n",
      "date : 2018-10-31T17:00:00Z\n",
      "type : DEBIT\n",
      "status : SUCCESS\n",
      "amount : 105000.00\n",
      "descriptor : Payment for merchant A\n",
      "balance : 500000000.00\n",
      "\n",
      "\n",
      "date : 2018-11-01T17:00:00Z\n",
      "type : CREDIT\n",
      "status : SUCCESS\n",
      "amount : 100000.00\n",
      "descriptor : Payment from merchant B\n",
      "balance : 500105000.00\n",
      "\n",
      "\n",
      "date : 2018-11-02T17:00:00Z\n",
      "type : CREDIT\n",
      "status : SUCCESS\n",
      "amount : 5000.00\n",
      "descriptor : Payment from merchant C\n",
      "balance : 500005000.00\n",
      "\n",
      "\n",
      "type : CHECKING\n",
      "account_number : 0007-321-456\n",
      "balance : 234500000.00\n",
      "holder_name : TEST USER\n",
      "total_amount_credited : 0.00\n",
      "total_amount_debited : 0.00\n",
      "\n",
      "\n",
      "\n",
      "\n",
      "type : SAVINGS\n",
      "account_number : 0007-123-789\n",
      "balance : 543100.00\n",
      "holder_name : TEST USER\n",
      "total_amount_credited : 0.00\n",
      "total_amount_debited : 0.00\n",
      "\n",
      "\n",
      "\n",
      "\n",
      "type : CHECKING\n",
      "account_number : 0007-321-901\n",
      "balance : 543100.00\n",
      "holder_name : TEST USER\n",
      "total_amount_credited : 0.00\n",
      "total_amount_debited : 0.00\n",
      "\n",
      "\n",
      "######         ACCOUNT                   ######\n",
      "type : SAVINGS\n",
      "account_number : 0007-456-007\n",
      "balance : 1250.00\n",
      "holder_name : TEST USER\n",
      "total_amount_credited : 20.00\n",
      "total_amount_debited : 5.00\n",
      "credit_transaction_count : 2\n",
      "debit_transaction_count : 1\n",
      "\n",
      "\n",
      "date : 2018-10-31T17:00:00Z\n",
      "type : DEBIT\n",
      "status : SUCCESS\n",
      "amount : 5.00\n",
      "descriptor : Payment for merchant A\n",
      "balance : 1250.00\n",
      "\n",
      "\n",
      "date : 2018-11-01T17:00:00Z\n",
      "type : CREDIT\n",
      "status : SUCCESS\n",
      "amount : 10.00\n",
      "descriptor : Payment from merchant B\n",
      "balance : 1255.00\n",
      "\n",
      "\n",
      "date : 2018-11-02T17:00:00Z\n",
      "type : CREDIT\n",
      "status : SUCCESS\n",
      "amount : 10.00\n",
      "descriptor : Payment from merchant C\n",
      "balance : 1245.00\n",
      "create : 2021-10-15T06:20:38Z \n",
      "\n",
      "external_id : Test-01010103 \n",
      "\n",
      "sub_status : SubStatus_COMPLETED \n",
      "\n",
      "update : 2021-10-15T06:21:14Z \n",
      "\n",
      "org_id : d8d51e2a-f9a9-11eb-b53d-df3fd6367221 \n",
      "\n",
      "bank_type : PERSONAL \n",
      "\n"
     ]
    }
   ],
   "source": [
    "statement_dict = json.loads(response2.text)\n",
    "for lst in statement_dict['statements']:\n",
    "    for item in lst:\n",
    "        if item == 'account_statements': \n",
    "            print(\"######         ACCOUNT STATEMENT         ######\")\n",
    "            for lst in statement_dict['statements']:\n",
    "                for item in lst['account_statements']:\n",
    "                    if list(item.keys()) == ['account', 'transactions']:\n",
    "                        print(\"######         ACCOUNT                   ######\")\n",
    "                        for detail in item['account']:\n",
    "                            if detail not in ('balance', 'total_amount_credited', 'total_amount_debited'):\n",
    "                                print(detail, ':', item['account'][detail])\n",
    "                            elif detail in ('balance', 'total_amount_credited', 'total_amount_debited'):\n",
    "                                print(detail, ':', item['account'][detail]['decimal']['num'])\n",
    "                        for transaction in item['transactions']:\n",
    "                            print('\\n')\n",
    "                            for t in transaction:\n",
    "                                if t not in ('amount', 'balance'):\n",
    "                                    print(t, ':', transaction[t])\n",
    "                                elif t in ('amount', 'balance'):\n",
    "                                    print(t, ':', transaction[t]['decimal']['num'])\n",
    "                    elif list(item.keys()) == ['account']:\n",
    "                        print('\\n')\n",
    "                        for detail in item['account']:\n",
    "                            if detail not in ('balance', 'total_amount_credited', 'total_amount_debited'):\n",
    "                                print(detail, ':', item['account'][detail])\n",
    "                            elif detail in ('balance', 'total_amount_credited', 'total_amount_debited'):\n",
    "                                print(detail, ':', item['account'][detail]['decimal']['num'])\n",
    "                        print('\\n')\n",
    "        elif item not in 'account_statements':\n",
    "            print(item, ':', lst[item], '\\n')"
   ]
  },
  {
   "cell_type": "code",
   "execution_count": 109,
   "id": "6ad3c849",
   "metadata": {},
   "outputs": [
    {
     "name": "stdout",
     "output_type": "stream",
     "text": [
      "statement_id : e2ef391d-646b-4410-b860-951b024f8206\n",
      "bank_code : DUMMY_BANK_PERSONAL\n",
      "statement_start_date : 2018-10-31T17:00:00Z\n",
      "statement_end_date : 2021-10-14T04:05:40Z\n"
     ]
    }
   ],
   "source": [
    "statement_dict = json.loads(response2.text)\n",
    "\n",
    "print('statement_id : ' + statement_dict['statements'][0]['statement_id'])\n",
    "print('bank_code : ' + statement_dict['statements'][0]['bank_code'])\n",
    "print('statement_start_date : ' + statement_dict['statements'][0]['start_date'])\n",
    "print('statement_end_date : ' + statement_dict['statements'][0]['end_date'])\n"
   ]
  },
  {
   "cell_type": "code",
   "execution_count": null,
   "id": "987d91d6",
   "metadata": {},
   "outputs": [],
   "source": [
    "#def layers (statement_dict):\n",
    "#    if isinstance (statement_dict, Mapping):\n",
    "#        yield statement_dict.keys()\n",
    "#        yield from layers(next(statement_dict.values()))"
   ]
  }
 ],
 "metadata": {
  "kernelspec": {
   "display_name": "Python 3 (ipykernel)",
   "language": "python",
   "name": "python3"
  },
  "language_info": {
   "codemirror_mode": {
    "name": "ipython",
    "version": 3
   },
   "file_extension": ".py",
   "mimetype": "text/x-python",
   "name": "python",
   "nbconvert_exporter": "python",
   "pygments_lexer": "ipython3",
   "version": "3.9.7"
  }
 },
 "nbformat": 4,
 "nbformat_minor": 5
}
